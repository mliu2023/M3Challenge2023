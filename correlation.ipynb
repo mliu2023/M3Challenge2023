{
 "cells": [
  {
   "attachments": {},
   "cell_type": "markdown",
   "metadata": {},
   "source": [
    "#### Finding correlation between electric bike sales and other factors"
   ]
  },
  {
   "cell_type": "code",
   "execution_count": 42,
   "metadata": {},
   "outputs": [],
   "source": [
    "import pandas as pd\n",
    "import numpy as np\n",
    "import os"
   ]
  },
  {
   "cell_type": "code",
   "execution_count": 43,
   "metadata": {},
   "outputs": [
    {
     "name": "stdout",
     "output_type": "stream",
     "text": [
      "environment.csv: 0.08959117395867557\n",
      "health_fitness_wellness.csv: 0.599856419804375\n"
     ]
    }
   ],
   "source": [
    "filenames = ['environment.csv', 'health_fitness_wellness.csv']\n",
    "\n",
    "for filename in filenames:\n",
    "    data = pd.read_csv(os.path.join('data', filename), skiprows=2)\n",
    "    arr = np.array(data.iloc[:, 1:3]).T\n",
    "    corr = np.corrcoef(arr)[0][1]\n",
    "    print(f'{filename}: {corr}')"
   ]
  }
 ],
 "metadata": {
  "kernelspec": {
   "display_name": "base",
   "language": "python",
   "name": "python3"
  },
  "language_info": {
   "codemirror_mode": {
    "name": "ipython",
    "version": 3
   },
   "file_extension": ".py",
   "mimetype": "text/x-python",
   "name": "python",
   "nbconvert_exporter": "python",
   "pygments_lexer": "ipython3",
   "version": "3.9.13"
  },
  "orig_nbformat": 4,
  "vscode": {
   "interpreter": {
    "hash": "af98a03feac13c8f6813da876b3ecde83405bc837edc8cf6d9f44aac8571d957"
   }
  }
 },
 "nbformat": 4,
 "nbformat_minor": 2
}
